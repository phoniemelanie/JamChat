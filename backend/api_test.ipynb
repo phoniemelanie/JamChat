{
 "cells": [
  {
   "cell_type": "code",
   "execution_count": 4,
   "id": "3d04e42c-0428-45c3-ac80-85c06ae389a9",
   "metadata": {},
   "outputs": [],
   "source": [
    "import requests"
   ]
  },
  {
   "cell_type": "code",
   "execution_count": 5,
   "id": "85520156-40db-4e97-aead-88db271303bf",
   "metadata": {},
   "outputs": [],
   "source": [
    "server_url = \"http://localhost:8000/\""
   ]
  },
  {
   "cell_type": "code",
   "execution_count": 9,
   "id": "b997ef40-3361-4291-b6ff-cb8a1bb6c30c",
   "metadata": {},
   "outputs": [
    {
     "name": "stdout",
     "output_type": "stream",
     "text": [
      "b'[{\"_id\":\"6309b33c7cacc487a2739214\",\"friends\":[],\"profile_picture\":\"https://upload.wikimedia.org/wikipedia/commons/thumb/e/ea/Van_Gogh_-_Starry_Night_-_Google_Art_Project.jpg/303px-Van_Gogh_-_Starry_Night_-_Google_Art_Project.jpg\",\"username\":\"littlebobbytables\"}]\\n'\n"
     ]
    }
   ],
   "source": [
    "users = requests.post(server_url+\"getUsers\")\n",
    "print(users.content)"
   ]
  },
  {
   "cell_type": "code",
   "execution_count": null,
   "id": "9370f644-a868-4570-8c21-8cd32775c463",
   "metadata": {},
   "outputs": [],
   "source": []
  }
 ],
 "metadata": {
  "kernelspec": {
   "display_name": "Python 3 (ipykernel)",
   "language": "python",
   "name": "python3"
  },
  "language_info": {
   "codemirror_mode": {
    "name": "ipython",
    "version": 3
   },
   "file_extension": ".py",
   "mimetype": "text/x-python",
   "name": "python",
   "nbconvert_exporter": "python",
   "pygments_lexer": "ipython3",
   "version": "3.9.12"
  }
 },
 "nbformat": 4,
 "nbformat_minor": 5
}
