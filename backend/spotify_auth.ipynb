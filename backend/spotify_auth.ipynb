{
 "cells": [
  {
   "cell_type": "code",
   "execution_count": 1,
   "id": "dac19cd6-2198-4429-9373-d008f7c9400d",
   "metadata": {},
   "outputs": [],
   "source": [
    "from urllib import parse\n",
    "import config\n",
    "import secrets\n",
    "import db\n",
    "from bson import ObjectId, json_util\n",
    "import requests\n",
    "import time"
   ]
  },
  {
   "cell_type": "code",
   "execution_count": 2,
   "id": "b48003ad-43da-4ad1-9b68-beb1ff500a40",
   "metadata": {},
   "outputs": [],
   "source": [
    "def request_user_authentication(user_id):\n",
    "    url = \"https://accounts.spotify.com/authorize?\"\n",
    "    params = {}\n",
    "    params[\"client_id\"] = config.spotify_client_id\n",
    "    params[\"response_type\"] = \"code\"\n",
    "    params[\"redirect_uri\"] = config.redirect_uri\n",
    "    params[\"state\"] = user_id\n",
    "    params[\"scope\"] = \"user-top-read user-read-currently-playing user-library-read\"\n",
    "    return url+parse.urlencode(params)"
   ]
  },
  {
   "cell_type": "code",
   "execution_count": 3,
   "id": "0b453034-c480-48d8-82d7-a8426bde42d4",
   "metadata": {},
   "outputs": [
    {
     "name": "stdout",
     "output_type": "stream",
     "text": [
      "https://accounts.spotify.com/authorize?client_id=cac02362fc1b4686ae9373824e1f60a4&response_type=code&redirect_uri=http%3A%2F%2Flocalhost%3A8000%2Fspotify-callback&state=6309be8bef6052b04d363855&scope=user-top-read+user-read-currently-playing+user-library-read\n"
     ]
    }
   ],
   "source": [
    "print(request_user_authentication(\"6309be8bef6052b04d363855\"))"
   ]
  },
  {
   "cell_type": "code",
   "execution_count": 4,
   "id": "4a355ea7-fbe3-47d9-a337-b821ad982344",
   "metadata": {},
   "outputs": [],
   "source": [
    "def refresh_token(user):\n",
    "    refresh_token = user[\"refresh_token\"]\n",
    "    body = {}\n",
    "    body[\"grant_type\"] = \"refresh_token\"\n",
    "    body[\"refresh_token\"] = refresh_token\n",
    "    body[\"client_id\"] = config.spotify_client_id\n",
    "    body[\"client_secret\"] = secrets.spotify_client_secret\n",
    "    url = \"https://accounts.spotify.com/api/token\"\n",
    "    response = requests.post(url, data=body)\n",
    "    response_json = response.json()\n",
    "    access_token = response_json[\"access_token\"]\n",
    "    user[\"access_token\"] = access_token\n",
    "    db.user_collection.update_one({\"_id\": user[\"_id\"]}, {\"$set\": user})\n",
    "    print(response.content)"
   ]
  },
  {
   "cell_type": "code",
   "execution_count": 5,
   "id": "8813dd15-d15b-4041-b67a-a0eb25b33482",
   "metadata": {},
   "outputs": [],
   "source": [
    "def get_currently_playing(user):\n",
    "    try:\n",
    "        access_token = user[\"access_token\"]\n",
    "    except KeyError:\n",
    "        return None\n",
    "    url = \"https://api.spotify.com/v1/me/player/currently-playing\"\n",
    "    response = requests.get(url, headers={\"Authorization\": f\"Bearer {access_token}\"})\n",
    "    if (response.status_code == 401):\n",
    "        refresh_token(user)\n",
    "        response = requests.get(url, headers={\"Authorization\": f\"Bearer {access_token}\"})\n",
    "    return response"
   ]
  },
  {
   "cell_type": "code",
   "execution_count": 6,
   "id": "595094fa-40d4-4fc7-8340-f43a16a6bda5",
   "metadata": {},
   "outputs": [],
   "source": [
    "user = db.user_collection.find_one({\"_id\": ObjectId(\"6309b33c7cacc487a2739214\")})"
   ]
  },
  {
   "cell_type": "code",
   "execution_count": 7,
   "id": "78eb34ff-b5ce-4fda-9471-1181a1af95b8",
   "metadata": {},
   "outputs": [],
   "source": [
    "def update_user_playing(user):\n",
    "    response = get_currently_playing(user)\n",
    "    if (response is not None):\n",
    "        if (len(response.content) == 0):\n",
    "            user[\"currently_listening\"] = None\n",
    "        else:\n",
    "            response_json = response.json()\n",
    "            if (response_json[\"is_playing\"]):\n",
    "                user[\"currently_listening\"] = response_json[\"item\"][\"external_urls\"][\"spotify\"]\n",
    "            else:\n",
    "                user[\"currently_listening\"] = None\n",
    "    db.user_collection.update_one({\"_id\": user[\"_id\"]}, {\"$set\": user})"
   ]
  },
  {
   "cell_type": "code",
   "execution_count": 8,
   "id": "fe37cb30-0aa9-4bf1-b118-0de1011b88bd",
   "metadata": {},
   "outputs": [],
   "source": [
    "update_user_playing(user)"
   ]
  },
  {
   "cell_type": "code",
   "execution_count": 9,
   "id": "e46b2bc6-d57d-4c72-90a2-21f6320376ed",
   "metadata": {},
   "outputs": [],
   "source": [
    "def get_user_favourites(user):\n",
    "    try:\n",
    "        access_token = user[\"access_token\"]\n",
    "    except KeyError:\n",
    "        return None\n",
    "    url = f\"https://api.spotify.com/v1/me/top/tracks?offset=0&limit=50\"\n",
    "    response = requests.get(url, headers={\"Authorization\": f\"Bearer {access_token}\"})\n",
    "    if (response.status_code == 401):\n",
    "        refresh_token(user)\n",
    "        response = requests.get(url, headers={\"Authorization\": f\"Bearer {access_token}\"})\n",
    "    return response"
   ]
  },
  {
   "cell_type": "code",
   "execution_count": 10,
   "id": "0a2aeb38-b9bb-4445-abac-9b026b81c240",
   "metadata": {},
   "outputs": [
    {
     "name": "stdout",
     "output_type": "stream",
     "text": [
      "{'spotify': 'https://open.spotify.com/track/6WeCNrVIIGnmWH9LX5NpeH'}\n"
     ]
    }
   ],
   "source": [
    "response = get_user_favourites(user)\n",
    "response_json = response.json()\n",
    "print(response_json[\"items\"][0][\"external_urls\"])\n",
    "top_uris = [item[\"external_urls\"][\"spotify\"] for item in response_json[\"items\"]]"
   ]
  },
  {
   "cell_type": "code",
   "execution_count": 11,
   "id": "7e38af72-1084-4383-9a56-03c970c0904c",
   "metadata": {},
   "outputs": [],
   "source": [
    "def update_user_favourites(user):\n",
    "    response = get_user_favourites(user)\n",
    "    if (response is not None):\n",
    "        response_json = response.json()\n",
    "        top_uris = [item[\"external_urls\"][\"spotify\"] for item in response_json[\"items\"]]\n",
    "        user[\"top_tracks\"] = top_uris\n",
    "        db.user_collection.update_one({\"_id\": user[\"_id\"]}, {\"$set\": user})"
   ]
  },
  {
   "cell_type": "code",
   "execution_count": 12,
   "id": "53b9cb67-db9e-4e9b-a9ec-e90ab818617b",
   "metadata": {},
   "outputs": [],
   "source": [
    "update_user_favourites(user)"
   ]
  },
  {
   "cell_type": "code",
   "execution_count": 13,
   "id": "c97ea5a5-97ca-45d9-8ef1-a5318e2790dc",
   "metadata": {},
   "outputs": [],
   "source": [
    "def spotify_worker():\n",
    "    while(True):\n",
    "        all_users = db.user_collection.find()\n",
    "        for user in all_users:\n",
    "            get_currently_playing(user)\n",
    "            if not \"top_tracks\" in user.keys():\n",
    "                update_user_favourites(user)\n",
    "        time.sleep(10)"
   ]
  },
  {
   "cell_type": "code",
   "execution_count": null,
   "id": "c3241afd-248c-48dc-9bbe-311f564bee68",
   "metadata": {},
   "outputs": [
    {
     "name": "stdout",
     "output_type": "stream",
     "text": [
      "b'{\"access_token\":\"BQCFTb9YHyR447TPpHilu0jlgDaJg7Pupug3rGm-MAsaGc_qcjV4_cDqYYoK_YmfK3t3q-FTzWRdun8UHHZL6Fuf7LK07PK7WEwqUyPwp7UHL-OZIMCB_iw2IRrV3aPIZeHIuzDWXE4UNhGOQiq91uXigq3NilaBxbeNCsGgoA37TrxnvCZ78O9k1vHQ4Yy-JP7JDZu8-KRpRmo4j2FoTIHW-mIFS4r2BMeEpZJNTXpYgFY\",\"token_type\":\"Bearer\",\"expires_in\":3600,\"scope\":\"playlist-read-private user-library-read user-read-currently-playing user-read-recently-played user-read-private user-top-read\"}'\n"
     ]
    }
   ],
   "source": [
    "spotify_worker()"
   ]
  },
  {
   "cell_type": "code",
   "execution_count": null,
   "id": "5b7ecb78-3730-44c3-9e67-091af2f4ee34",
   "metadata": {},
   "outputs": [],
   "source": []
  }
 ],
 "metadata": {
  "kernelspec": {
   "display_name": "Python 3 (ipykernel)",
   "language": "python",
   "name": "python3"
  },
  "language_info": {
   "codemirror_mode": {
    "name": "ipython",
    "version": 3
   },
   "file_extension": ".py",
   "mimetype": "text/x-python",
   "name": "python",
   "nbconvert_exporter": "python",
   "pygments_lexer": "ipython3",
   "version": "3.9.12"
  }
 },
 "nbformat": 4,
 "nbformat_minor": 5
}
