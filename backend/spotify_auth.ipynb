{
 "cells": [
  {
   "cell_type": "code",
   "execution_count": 1,
   "id": "dac19cd6-2198-4429-9373-d008f7c9400d",
   "metadata": {},
   "outputs": [],
   "source": [
    "from urllib import parse\n",
    "import config\n",
    "import secrets"
   ]
  },
  {
   "cell_type": "code",
   "execution_count": 2,
   "id": "b48003ad-43da-4ad1-9b68-beb1ff500a40",
   "metadata": {},
   "outputs": [],
   "source": [
    "def request_user_authentication():\n",
    "    url = \"https://accounts.spotify.com/authorize?\"\n",
    "    params = {}\n",
    "    params[\"client_id\"] = config.spotify_client_id\n",
    "    params[\"response_type\"] = \"code\"\n",
    "    params[\"redirect_uri\"] = config.redirect_uri\n",
    "    params[\"state\"] = \"6309b33c7cacc487a2739214\"\n",
    "    params[\"stuff\"] = \"some random stuff here for testing\"\n",
    "    return url+parse.urlencode(params)"
   ]
  },
  {
   "cell_type": "code",
   "execution_count": 3,
   "id": "0b453034-c480-48d8-82d7-a8426bde42d4",
   "metadata": {},
   "outputs": [
    {
     "name": "stdout",
     "output_type": "stream",
     "text": [
      "https://accounts.spotify.com/authorize?client_id=cac02362fc1b4686ae9373824e1f60a4&response_type=code&redirect_uri=http%3A%2F%2Flocalhost%3A8000%2Fspotify-callback&state=6309b33c7cacc487a2739214&stuff=some+random+stuff+here+for+testing\n"
     ]
    }
   ],
   "source": [
    "print(request_user_authentication())"
   ]
  },
  {
   "cell_type": "code",
   "execution_count": null,
   "id": "595094fa-40d4-4fc7-8340-f43a16a6bda5",
   "metadata": {},
   "outputs": [],
   "source": []
  }
 ],
 "metadata": {
  "kernelspec": {
   "display_name": "Python 3 (ipykernel)",
   "language": "python",
   "name": "python3"
  },
  "language_info": {
   "codemirror_mode": {
    "name": "ipython",
    "version": 3
   },
   "file_extension": ".py",
   "mimetype": "text/x-python",
   "name": "python",
   "nbconvert_exporter": "python",
   "pygments_lexer": "ipython3",
   "version": "3.9.12"
  }
 },
 "nbformat": 4,
 "nbformat_minor": 5
}
